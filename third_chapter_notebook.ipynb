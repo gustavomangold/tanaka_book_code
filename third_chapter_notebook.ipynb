{
 "cells": [
  {
   "cell_type": "markdown",
   "id": "370fab5f",
   "metadata": {},
   "source": [
    "# Capítulo 3"
   ]
  },
  {
   "cell_type": "markdown",
   "id": "057d392c",
   "metadata": {},
   "source": [
    "### Secão 3.1\n",
    "Neste capítulo, se introduz o conceito de redes neurais utilizando mecânica estatística. A função de 'chute' $Q_J$ se constrói por meio da distribuição de Boltzmann e com o uso de hamiltonianos. Para uma rede com somente dois neurônios de entrada, com aprendizado supervisionado, temos:\n",
    "\n",
    "$Q_j(d|x) = \\frac{e^{(xJ_x+yJ_y+J)d}}{1+e^{xJ_x+yJ_y+J}}$\n",
    "\n",
    "onde as constantes $J$ são os parâmetros, que chamamos de *constantes de acoplamento*. Dada a função chamada de *sigmoide*, definida por $\\sigma(X) = \\frac{1}{e^{-X}+1}$, retiramos as identidades:\n",
    "\n",
    "* $Q_j(d=1|x) = \\frac{e^{(xJ_x+yJ_y+J)}}{1+e^{xJ_x+yJ_y+J}}=\\frac{e^{(xJ_x+yJ_y+J)d}}{1+e^{xJ_x+yJ_y+J}}\\cdot \\frac{e^{-(xJ_x+yJ_y+J)}}{e^{-(xJ_x+yJ_y+J)}}=\\frac{1}{e^{-(xJ_x+yJ_y+J)}+1} = \\sigma(xJ_x+yJ_y+J) $\n",
    "\n",
    "\n",
    "* $Q_j(d=0|x) = 1-\\sigma({xJ_x+yJ_y+J})$\n",
    "\n",
    "onde a segunda identidade pode ser demonstrada conforme:\n",
    "\n",
    "$1-\\sigma({xJ_x+yJ_y+J})=1-\\frac{1}{e^{-(xJ_x+yJ_y+J)}+1} = \\frac{e^{-(xJ_x+yJ_y+J)}+1-1}{e^{-(xJ_x+yJ_y+J)}+1}=\\frac{e^{-(xJ_x+yJ_y+J)}}{e^{-(xJ_x+yJ_y+J)}+1}\\cdot \\frac{e^{(xJ_x+yJ_y+J)}}{e^{(xJ_x+yJ_y+J)}}=\\frac{1}{e^{(xJ_x+yJ_y+J)}+1}=Q_J(d=0|x)$\n"
   ]
  },
  {
   "cell_type": "code",
   "execution_count": null,
   "id": "faca46da",
   "metadata": {},
   "outputs": [],
   "source": []
  }
 ],
 "metadata": {
  "kernelspec": {
   "display_name": "Python 3 (ipykernel)",
   "language": "python",
   "name": "python3"
  },
  "language_info": {
   "codemirror_mode": {
    "name": "ipython",
    "version": 3
   },
   "file_extension": ".py",
   "mimetype": "text/x-python",
   "name": "python",
   "nbconvert_exporter": "python",
   "pygments_lexer": "ipython3",
   "version": "3.10.12"
  }
 },
 "nbformat": 4,
 "nbformat_minor": 5
}
